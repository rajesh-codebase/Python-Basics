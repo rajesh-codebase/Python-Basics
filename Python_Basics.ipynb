{
  "nbformat": 4,
  "nbformat_minor": 0,
  "metadata": {
    "colab": {
      "provenance": []
    },
    "kernelspec": {
      "name": "python3",
      "display_name": "Python 3"
    },
    "language_info": {
      "name": "python"
    }
  },
  "cells": [
    {
      "cell_type": "markdown",
      "source": [
        "# Python Basics"
      ],
      "metadata": {
        "id": "IcNiWPj5kSlI"
      }
    },
    {
      "cell_type": "markdown",
      "source": [
        "1) What is python, and why is it popular?\n",
        " - Python is a high-level, general-purpose programming language known for its simplicity, readability, and versatility. It was created by Guido van Rossum and first released in 1991. Python emphasizes code readability with its clean and easy-to-learn syntax.\n",
        " - why is popular :-\n",
        "     a) Ease of use and readbility\n",
        "     b) Versatility\n",
        "     c) Community support\n",
        "     d) Platform independence\n",
        "     e) Integration\n",
        "\n",
        "2) What is an interpreter in python?\n",
        " - An interpreter in Python is a program that reads and executes Python code line by line, converting it into machine code that your computer's hardware can execute. Unlike compiled languages, where the code is first compiled into a binary file, Python directly interprets the code at runtime.\n",
        " - Key Features of the Python Interpreter:\n",
        "     a) Interactive Execution\n",
        "     b) Dynamic Typing\n",
        "     c) Cross-platform\n",
        "     d) Error detection at runtime\n",
        "\n",
        "3) What are pre-defined keywords in python?\n",
        " - In Python, pre-defined keywords are reserved words that have specific meanings and purposes in the language. You cannot use these keywords as variable names, function names, or any other identifiers because they are part of the syntax.\n",
        " - Some lists of python keywords:-\n",
        "    False, True, None, and, or, not, if, elif, else, for, while, break, continue, return, def, class, try, except, with.\n",
        "\n",
        "4) Can keywords be used as variable names?\n",
        " - No, keywords cannot be used as variable names in Python. Keywords are reserved by the language for specific purposes, and attempting to use them as variable names will result in a syntax error.\n",
        "\n",
        "5) What is mutability in python?\n",
        " - Objects/Container whose state or value can be changed after they are created are called as mutable objects or conainer.\n",
        " - List is a type of mutable object/supports item assignment.\n",
        "\n",
        "6) Why are lists mutable, but tuples are immutable?\n",
        " - Lists are meant to be flexible and dynamic, allowing modifications like adding, removing, or updating elements. Tuples are designed to store fixed, unchangeable collections to ensure data integrity.\n",
        " - Lists use dynamic memory allocation to support changes, while tuples use fixed-size memory allocation, making them more memory-efficient and faster but immutable.\n",
        " - Lists are suitable for scenarios requiring frequent modifications, while tuples are ideal for fixed data and scenarios where immutability is essential, like dictionary keys.\n",
        "\n",
        "7) What is the difference between \"==\" and \"is\" operator in python?\n",
        " - Equality Operator(==):-\n",
        "   * Compares the values of two objects to check if they are equal.\n",
        "   * Even if two objects are stored at different memory locations, == will return True if their values are the same.\n",
        " - is operator:-\n",
        "   * Checks if two objects refer to the same memory location.\n",
        "   * Returns True only if the two variables point to the exact same object in memory.\n",
        "\n",
        "8) What are logical opertors in python?\n",
        " - Logical operators are used to combine conditional statements and evaluate expressions based on their truth values. Python provides three logical operators: and, or, and not.\n",
        " - and operator:-\n",
        "   * Returns True if both conditions are True. If either condition is False, it returns False.\n",
        "   *  Syntx: condition1 and condition2\n",
        " - or operator:-\n",
        "   * Returns True if at least one condition is True. Returns False only if both conditions are False.\n",
        "   * Syntax: condition1 or condition2\n",
        " - not operator:-\n",
        "   * Reverses the logical value of the condition. If the condition is True, it returns False, and vice versa.\n",
        "\n",
        "9) What is type casting in python?\n",
        " - Type casting in Python refers to the process of converting a variable from one data type to another. It is often used to ensure compatibility between different data types or to perform operations that require a specific data type.\n",
        " - Types of type casting:-\n",
        "  * Implicit type casting:\n",
        "     Performed automatically by Python.Python converts one data type to another during operations to avoid loss of information.No user intervention is required.\n",
        "  * Explicit type casting:\n",
        "     Performed manually by the programmer using Python's built-in functions.\n",
        "Useful when you need to convert data to a specific type intentionally.\n",
        "\n",
        "10) What is the differene between implicit and explicit type casting?\n",
        " - Implicit type casting:-\n",
        "   * Performed automatically by Python.Python converts one data type to another during operations to avoid loss of information.No user intervention is required.\n",
        " - Explicit type casting:-\n",
        "   * Performed manually by the programmer using Python's built-in functions.\n",
        "Useful when you need to convert data to a specific type intentionally.\n",
        "\n",
        "11) What is the purppose of conditional statement in python?\n",
        " - In Python, a conditional statement is used to execute specific blocks of code based on whether a condition is true or false. It allows you to make decisions in your program's flow.\n",
        " - Purpose:-\n",
        "   * Decision-Making: Conditional statements help in implementing logic where different outcomes are required depending on specific conditions.\n",
        "   * Flow Control: They control the execution of code by allowing or skipping certain parts of the program.\n",
        "   * Dynamic Behavior: They enable the program to respond dynamically to different inputs or situations.\n",
        "\n",
        "12) How does the elif statement work?\n",
        " - The elif statement in Python stands for \"else if.\" It is used to check multiple conditions after the initial if condition.\n",
        " - The elif statement allows you to execute a block of code if its condition evaluates to True, and the preceding conditions in the if or previous elif blocks have evaluated to False.\n",
        " - How it works:-\n",
        "   * The program evaluates the conditions in order:\n",
        "     It starts with the if condition. If the if condition is False, it moves on to evaluate the elif condition(s).\n",
        "   * The first elif condition that evaluates to True gets executed, and the rest of the elif and else blocks are skipped.\n",
        "   * If none of the if or elif conditions are True, the else block (if provided) is executed.\n",
        "\n",
        "13) What is the difference between for and while loops?\n",
        " - In Python, both for and while loops are used to repeat a block of code multiple times, but they differ in their purpose and how they are structured.\n",
        " - for loop:-\n",
        "   * A for loop is used when you have a known sequence or range to iterate over.\n",
        "     It's ideal for situations where the number of iterations is predetermined.\n",
        " - while loop:-\n",
        "   * A while loop is used when the number of iterations is not known in advance and depends on a condition.\n",
        "     It continues executing as long as the condition evaluates to True.\n",
        "\n",
        "14) Describe a scenario where a while loop is more suitable than a for loop.\n",
        " - A while loop is more suitable than a for loop when the number of iterations is unknown in advance and depends on a condition that may change dynamically during runtime.\n",
        " - Scenario: User Login system\n",
        "   * Suppose you're designing a system where the user is given multiple attempts to enter the correct password. You don't know how many attempts the user will take to input the correct password, so the loop should continue until the correct password is entered or a maximum number of attempts is reached.\n",
        "   \n",
        "   correct_password = \"secure123\"\n",
        "max_attempts = 3\n",
        "attempts = 0\n",
        "\n",
        "while attempts < max_attempts:\n",
        "    password = input(\"Enter your password: \")\n",
        "    attempts += 1\n",
        "    \n",
        "    if password == correct_password:\n",
        "        print(\"Access granted!\")\n",
        "        break\n",
        "    else:\n",
        "        print(f\"Incorrect password. You have {max_attempts - attempts} attempts left.\")\n",
        "\n",
        "if attempts == max_attempts and password != correct_password:\n",
        "    print(\"Access denied. Too many failed attempts.\")\n"
      ],
      "metadata": {
        "id": "KOlwysA_kZYu"
      }
    },
    {
      "cell_type": "code",
      "source": [
        "#Q1) Write a python program to print \"Hello, World!\"\n",
        "\n",
        "print(\"Hello, World\")"
      ],
      "metadata": {
        "colab": {
          "base_uri": "https://localhost:8080/"
        },
        "id": "U_Mz8pjT1hZh",
        "outputId": "053d0d74-c8be-446e-a928-98fe1f43184a"
      },
      "execution_count": null,
      "outputs": [
        {
          "output_type": "stream",
          "name": "stdout",
          "text": [
            "Hello, World\n"
          ]
        }
      ]
    },
    {
      "cell_type": "code",
      "source": [
        "#Q2) Write a python program that displays your name and age.\n",
        "\n",
        "name = input(\"Enter your name: \")\n",
        "age = input(\"Enter your age: \")\n"
      ],
      "metadata": {
        "colab": {
          "base_uri": "https://localhost:8080/"
        },
        "id": "uJBnp8VS1zmn",
        "outputId": "fff2f98b-2ec0-444f-9c51-f698f5bb095c"
      },
      "execution_count": null,
      "outputs": [
        {
          "name": "stdout",
          "output_type": "stream",
          "text": [
            "Enter your name: Rajesh\n",
            "Enter your age: 23\n"
          ]
        }
      ]
    },
    {
      "cell_type": "code",
      "source": [
        "#Q3) Write a code to print all the pre-defined keywords in python using the keyword library\n",
        "\n",
        "import keyword\n",
        "print(\"python keywords: \")\n",
        "for kw in keyword.kwlist:\n",
        "  print(kw)\n"
      ],
      "metadata": {
        "colab": {
          "base_uri": "https://localhost:8080/"
        },
        "id": "0twR2BsA3Q9A",
        "outputId": "def87812-6ab7-4c43-dcea-a6a0fd89d9ec"
      },
      "execution_count": null,
      "outputs": [
        {
          "output_type": "stream",
          "name": "stdout",
          "text": [
            "python keywords: \n",
            "False\n",
            "None\n",
            "True\n",
            "and\n",
            "as\n",
            "assert\n",
            "async\n",
            "await\n",
            "break\n",
            "class\n",
            "continue\n",
            "def\n",
            "del\n",
            "elif\n",
            "else\n",
            "except\n",
            "finally\n",
            "for\n",
            "from\n",
            "global\n",
            "if\n",
            "import\n",
            "in\n",
            "is\n",
            "lambda\n",
            "nonlocal\n",
            "not\n",
            "or\n",
            "pass\n",
            "raise\n",
            "return\n",
            "try\n",
            "while\n",
            "with\n",
            "yield\n"
          ]
        }
      ]
    },
    {
      "cell_type": "code",
      "source": [
        "#Q4) Write a program that checks if a given word is a python keyword.\n",
        "\n",
        "import keyword\n",
        "word = input(\"Enter a word to check if it's a python keyword: \")\n",
        "\n",
        "if keyword.iskeyword(word):\n",
        "  print(f\"'{word}' is a python keyword. \")\n",
        "else:\n",
        "  print(f\"'{word}' is NOT a python keyword. \")"
      ],
      "metadata": {
        "colab": {
          "base_uri": "https://localhost:8080/"
        },
        "id": "j-7_BEKJ5b_U",
        "outputId": "67a80b84-3838-43f8-d6b7-eb29695d97d2"
      },
      "execution_count": null,
      "outputs": [
        {
          "output_type": "stream",
          "name": "stdout",
          "text": [
            "Enter a word to check if it's a python keyword: not\n",
            "'not' is a python keyword. \n"
          ]
        }
      ]
    },
    {
      "cell_type": "code",
      "source": [
        "#Q5) Create a list and tuple in python, and demonstrate how attempting to change an element works differently for each.\n",
        "\n",
        "my_list = [1, 2, 3, 4, 5]\n",
        "my_tuple = (1, 2, 3, 4, 5)\n",
        "\n",
        "print(\"Original List:\", my_list)\n",
        "my_list[1] = 20\n",
        "print(\"Modified List:\", my_list)\n",
        "\n",
        "print(\"\\nOriginal Tuple:\", my_tuple)\n",
        "try:\n",
        "    my_tuple[1] = 20\n",
        "except TypeError as e:\n",
        "    print(f\"Error: {e}\")\n"
      ],
      "metadata": {
        "id": "W1If-2im7O06",
        "colab": {
          "base_uri": "https://localhost:8080/"
        },
        "outputId": "0cb043d3-1e60-4933-9bb5-a93acb62fcfa"
      },
      "execution_count": null,
      "outputs": [
        {
          "output_type": "stream",
          "name": "stdout",
          "text": [
            "Original List: [1, 2, 3, 4, 5]\n",
            "Modified List: [1, 20, 3, 4, 5]\n",
            "\n",
            "Original Tuple: (1, 2, 3, 4, 5)\n",
            "Error: 'tuple' object does not support item assignment\n"
          ]
        }
      ]
    },
    {
      "cell_type": "code",
      "source": [
        "#Q6) Write a function to demonstrate the behavior of mutable and immutable arguments.\n",
        "\n",
        "def modify_objects(mutable, immutable):\n",
        "    mutable.append(100)\n",
        "    immutable += 10\n",
        "    print(\"Inside function:\")\n",
        "    print(f\"Mutable: {mutable}\")\n",
        "    print(f\"Immutable: {immutable}\")\n",
        "\n",
        "mutable = [1, 2, 3]\n",
        "immutable = 10\n",
        "\n",
        "print(\"Before function call:\")\n",
        "print(f\"Mutable: {mutable}\")\n",
        "print(f\"Immutable: {immutable}\")\n",
        "\n",
        "modify_objects(mutable, immutable)\n",
        "\n",
        "print(\"\\nAfter function call:\")\n",
        "print(f\"Mutable: {mutable}\")\n",
        "print(f\"Immutable: {immutable}\")\n"
      ],
      "metadata": {
        "colab": {
          "base_uri": "https://localhost:8080/"
        },
        "id": "lY6ZFEy0WHyg",
        "outputId": "818ed894-762c-43f2-998c-313acf61e25d"
      },
      "execution_count": null,
      "outputs": [
        {
          "output_type": "stream",
          "name": "stdout",
          "text": [
            "Before function call:\n",
            "Mutable: [1, 2, 3]\n",
            "Immutable: 10\n",
            "Inside function:\n",
            "Mutable: [1, 2, 3, 100]\n",
            "Immutable: 20\n",
            "\n",
            "After function call:\n",
            "Mutable: [1, 2, 3, 100]\n",
            "Immutable: 10\n"
          ]
        }
      ]
    },
    {
      "cell_type": "code",
      "source": [
        "#Q7) Write a program to demonstrate the use of logical operators.\n",
        "\n",
        "num1 = 5\n",
        "num2 = 10\n",
        "\n",
        "# For 'and'\n",
        "print( num1 > 0 and num2 > 0)\n",
        "\n",
        "# For 'or'\n",
        "print( num1 < 0 or num2 < 0)\n",
        "\n",
        "# For 'not'\n",
        "if not (num1 == num2):\n",
        "    print(\"Numbers are not equal\")\n"
      ],
      "metadata": {
        "colab": {
          "base_uri": "https://localhost:8080/"
        },
        "id": "jk4FbNsvZbzK",
        "outputId": "e7120c47-17bb-4ae7-f158-3b2731f1debd"
      },
      "execution_count": null,
      "outputs": [
        {
          "output_type": "stream",
          "name": "stdout",
          "text": [
            "True\n",
            "False\n",
            "Numbers are not equal\n"
          ]
        }
      ]
    },
    {
      "cell_type": "code",
      "source": [
        "#Q8) Write a python program to convert user input from string to integer, float and boolean types.\n",
        "\n",
        "def convert_types(user_input):\n",
        "    try:\n",
        "        int_value = int(user_input)\n",
        "    except ValueError:\n",
        "        int_value = None\n",
        "\n",
        "    try:\n",
        "        float_value = float(user_input)\n",
        "    except ValueError:\n",
        "        float_value = None\n",
        "\n",
        "    bool_value = user_input.lower() in [\"true\", \"1\", \"yes\"]\n",
        "\n",
        "    return int_value, float_value, bool_value\n",
        "\n",
        "user_input = input(\"Enter a value: \")\n",
        "\n",
        "int_result, float_result, bool_result = convert_types(user_input)\n",
        "\n",
        "print(f\"Integer: {int_result}\")\n",
        "print(f\"Float: {float_result}\")\n",
        "print(f\"Boolean: {bool_result}\")\n"
      ],
      "metadata": {
        "id": "gGRhoRjwd-Et",
        "colab": {
          "base_uri": "https://localhost:8080/"
        },
        "outputId": "7ec7b88c-ed67-4779-e724-e13c617fc2a2"
      },
      "execution_count": null,
      "outputs": [
        {
          "output_type": "stream",
          "name": "stdout",
          "text": [
            "Enter a value: 25\n",
            "Integer: 25\n",
            "Float: 25.0\n",
            "Boolean: False\n"
          ]
        }
      ]
    },
    {
      "cell_type": "code",
      "source": [
        "#Q9) Write code to demonstrate type casting with list elements.\n",
        "\n",
        "data_list = [\"10\", \"20.5\", \"True\", \"False\", \"30\", \"40.8\", \"yes\", \"no\"]\n",
        "\n",
        "int_list = [int(x) if x.isdigit() else None for x in data_list]\n",
        "float_list = [float(x) if x.replace('.', '', 1).isdigit() else None for x in data_list]\n",
        "bool_list = [x.lower() in [\"true\", \"1\", \"yes\"] if x.lower() in [\"true\", \"false\", \"1\", \"0\", \"yes\", \"no\"] else None for x in data_list]\n",
        "\n",
        "print(f\"Original: {data_list}\\nInteger: {int_list}\\nFloat: {float_list}\\nBoolean: {bool_list}\")\n"
      ],
      "metadata": {
        "colab": {
          "base_uri": "https://localhost:8080/"
        },
        "id": "YQsstbsmjtHe",
        "outputId": "98325664-3244-41d2-f6eb-50b3dadf0d02"
      },
      "execution_count": null,
      "outputs": [
        {
          "output_type": "stream",
          "name": "stdout",
          "text": [
            "Original: ['10', '20.5', 'True', 'False', '30', '40.8', 'yes', 'no']\n",
            "Integer: [10, None, None, None, 30, None, None, None]\n",
            "Float: [10.0, 20.5, None, None, 30.0, 40.8, None, None]\n",
            "Boolean: [None, None, True, False, None, None, True, False]\n"
          ]
        }
      ]
    },
    {
      "cell_type": "code",
      "source": [
        "#Q10) Write a program that checks if a number is positive, negative or zero.\n",
        "\n",
        "num = float(input(\"Enter a number: \"))\n",
        "if num>0:\n",
        "  print(\"The number is positive\")\n",
        "elif num<0:\n",
        "  print(\"The number is negative\")\n",
        "else:\n",
        "  print(\"The number is zero\")"
      ],
      "metadata": {
        "colab": {
          "base_uri": "https://localhost:8080/"
        },
        "id": "00IEuxOFktN4",
        "outputId": "c09ddd2c-ae37-4c8d-f856-855c7982b729"
      },
      "execution_count": null,
      "outputs": [
        {
          "output_type": "stream",
          "name": "stdout",
          "text": [
            "Enter a number: -5\n",
            "The number is negative\n"
          ]
        }
      ]
    },
    {
      "cell_type": "code",
      "source": [
        "#Q11) Write a for loop to print numbers from 1 to 10.\n",
        "\n",
        "for i in range(1, 11):\n",
        "  print(i)"
      ],
      "metadata": {
        "colab": {
          "base_uri": "https://localhost:8080/"
        },
        "id": "TlvIr0GLl97I",
        "outputId": "38f4e482-7483-49d7-c821-9c8eed37a0db"
      },
      "execution_count": null,
      "outputs": [
        {
          "output_type": "stream",
          "name": "stdout",
          "text": [
            "1\n",
            "2\n",
            "3\n",
            "4\n",
            "5\n",
            "6\n",
            "7\n",
            "8\n",
            "9\n",
            "10\n"
          ]
        }
      ]
    },
    {
      "cell_type": "code",
      "source": [
        "#Q12) write a python program to find the sum of all even numbers between 1 and 50.\n",
        "\n",
        "sum_even = 0\n",
        "\n",
        "for num in range(2, 51, 2):\n",
        "    sum_even += num\n",
        "\n",
        "print(\"Sum of even numbers from 1 to 50:\", sum_even)\n"
      ],
      "metadata": {
        "colab": {
          "base_uri": "https://localhost:8080/"
        },
        "id": "KwoTmDQ2m0H-",
        "outputId": "7f3b9637-022b-4b84-f611-5eaf9c2f0189"
      },
      "execution_count": null,
      "outputs": [
        {
          "output_type": "stream",
          "name": "stdout",
          "text": [
            "Sum of even numbers from 1 to 50: 650\n"
          ]
        }
      ]
    },
    {
      "cell_type": "code",
      "source": [
        "#Q13) Write a program to reverse a string using a while loop.\n",
        "\n",
        "s = input(\"Enter a string: \")\n",
        "rev = \"\"\n",
        "i = len(s) - 1\n",
        "\n",
        "while i >= 0:\n",
        "    rev += s[i]\n",
        "    i -= 1\n",
        "\n",
        "print(\"Reversed string:\", rev)\n"
      ],
      "metadata": {
        "colab": {
          "base_uri": "https://localhost:8080/"
        },
        "id": "rJHNCDlPnhXy",
        "outputId": "8fe5881a-0ce6-4b48-d0c2-86de7871b67f"
      },
      "execution_count": null,
      "outputs": [
        {
          "output_type": "stream",
          "name": "stdout",
          "text": [
            "Enter a string: 25\n",
            "Reversed string: 52\n"
          ]
        }
      ]
    },
    {
      "cell_type": "code",
      "source": [
        "#Q14) Write a python program to calculate the factorial of a number provided by the user using a while loop.\n",
        "\n",
        "num = int(input(\"Enter a number: \"))\n",
        "\n",
        "factorial = 1\n",
        "i = num\n",
        "\n",
        "while i > 1:\n",
        "    factorial *= i\n",
        "    i -= 1\n",
        "\n",
        "print(f\"The factorial of {num} is {factorial}\")\n"
      ],
      "metadata": {
        "colab": {
          "base_uri": "https://localhost:8080/"
        },
        "id": "JDF664fnoOO9",
        "outputId": "ec52d0ae-8f45-4f7a-c311-26152697355e"
      },
      "execution_count": null,
      "outputs": [
        {
          "output_type": "stream",
          "name": "stdout",
          "text": [
            "Enter a number: 6\n",
            "The factorial of 6 is 720\n"
          ]
        }
      ]
    }
  ]
}